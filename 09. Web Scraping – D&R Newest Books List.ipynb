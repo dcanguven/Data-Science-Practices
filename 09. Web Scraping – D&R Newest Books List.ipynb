{
 "cells": [
  {
   "cell_type": "code",
   "execution_count": null,
   "id": "1a878c87-8b74-4629-9e00-829ae3e7cbbb",
   "metadata": {},
   "outputs": [],
   "source": [
    "import scrapy\n",
    "\n",
    "\n",
    "class BooksSpider(scrapy.Spider):\n",
    "    name = \"books\"\n",
    "    allowed_domains = [\"dr.com.tr\"]\n",
    "    start_urls = [\"https://www.dr.com.tr/Kategori_/Kitap/En-Yeniler/10001/3\"]\n",
    "\n",
    "    def parse(self, response):\n",
    "        # Select all book elements\n",
    "        books = response.css(\"div.prd-main-wrapper\")\n",
    "        \n",
    "        for book in books:\n",
    "            # Extract book name and price\n",
    "            name = book.css(\"div.prd-infos h3.seo-heading a::text\").get()\n",
    "            author = book.css(\"div.prd-infos h3.seo-heading a.who.font-weight-bold::text\").get()\n",
    "            price = book.css(\"div.prd-prices div.prd-price::text\").get()\n",
    "            publisher = books.css(\"div.prd-content div.prd-content-wrapper div.prd-info-wrapper a.prd-publisher::text\").get()\n",
    "            \n",
    "            \n",
    "            if name and price:\n",
    "                yield {\n",
    "                    'name': name.strip(),\n",
    "                    'author': author.strip(),\n",
    "                    'price': price.strip(),\n",
    "                    'publisher': publisher.strip()\n",
    "                }\n",
    "\n",
    "        # Pagination: Check for a next page\n",
    "        next_page = response.css(\"li.pagination-next a::attr(href)\").get()\n",
    "        if next_page:\n",
    "            yield response.follow(next_page, callback=self.parse)"
   ]
  },
  {
   "cell_type": "markdown",
   "id": "05efab91-c63b-40d0-9690-0e2c72ed1ab8",
   "metadata": {},
   "source": [
    "**Note:** For the complete set of code examples and scripts, please visit the [Web Scraping Repository](https://github.com/dcanguven/webscraping.git)"
   ]
  }
 ],
 "metadata": {
  "kernelspec": {
   "display_name": "Python 3 (ipykernel)",
   "language": "python",
   "name": "python3"
  },
  "language_info": {
   "codemirror_mode": {
    "name": "ipython",
    "version": 3
   },
   "file_extension": ".py",
   "mimetype": "text/x-python",
   "name": "python",
   "nbconvert_exporter": "python",
   "pygments_lexer": "ipython3",
   "version": "3.12.7"
  }
 },
 "nbformat": 4,
 "nbformat_minor": 5
}
