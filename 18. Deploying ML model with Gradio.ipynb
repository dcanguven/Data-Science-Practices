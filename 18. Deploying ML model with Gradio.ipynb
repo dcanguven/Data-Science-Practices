{
 "cells": [
  {
   "cell_type": "markdown",
   "id": "762d605c-9488-412e-9580-d3fee011bd6b",
   "metadata": {},
   "source": [
    "````python\n",
    "\n",
    "import pandas as pd\n",
    "from sklearn.model_selection import train_test_split\n",
    "from sklearn.linear_model import LinearRegression\n",
    "from sklearn.metrics import r2_score, mean_squared_error\n",
    "import matplotlib.pyplot as plt\n",
    "import joblib\n",
    "\n",
    "df = pd.read_csv(\"Linear_Dataset.csv\")\n",
    "X = df[[\"Feature\"]]\n",
    "y = df[\"Target\"]\n",
    "\n",
    "X_train, X_test, y_train, y_test = train_test_split(X, y, test_size=0.2, random_state=42)\n",
    "\n",
    "model = LinearRegression()\n",
    "model.fit(X_train, y_train)\n",
    "\n",
    "y_pred = model.predict(X_test)\n",
    "\n",
    "r2 = r2_score(y_test, y_pred)\n",
    "\n",
    "print(f\"R² Skoru: {r2:.3f}\")\n",
    "\n",
    "joblib.dump(model, \"linear_model.pkl\")\n",
    "print(\"Model saved as a linear_model.pkl\")"
   ]
  },
  {
   "cell_type": "code",
   "execution_count": 1,
   "id": "99849d60-80fe-4721-9217-efa011942ec7",
   "metadata": {},
   "outputs": [
    {
     "name": "stdout",
     "output_type": "stream",
     "text": [
      "* Running on local URL:  http://127.0.0.1:7860\n",
      "* To create a public link, set `share=True` in `launch()`.\n"
     ]
    },
    {
     "data": {
      "text/html": [
       "<div><iframe src=\"http://127.0.0.1:7860/\" width=\"100%\" height=\"500\" allow=\"autoplay; camera; microphone; clipboard-read; clipboard-write;\" frameborder=\"0\" allowfullscreen></iframe></div>"
      ],
      "text/plain": [
       "<IPython.core.display.HTML object>"
      ]
     },
     "metadata": {},
     "output_type": "display_data"
    },
    {
     "data": {
      "text/plain": []
     },
     "execution_count": 1,
     "metadata": {},
     "output_type": "execute_result"
    }
   ],
   "source": [
    "import gradio as gr\n",
    "import joblib\n",
    "\n",
    "model = joblib.load(\"linear_model.pkl\")\n",
    "\n",
    "def predict(feature):\n",
    "    X = pd.DataFrame([[feature]], columns=[\"Feature\"])\n",
    "    return model.predict(X)[0]\n",
    "\n",
    "gr.Interface(\n",
    "    fn=predict,\n",
    "    inputs=gr.Number(label=\"Feature\"),\n",
    "    outputs=gr.Number(label=\"Predicted Target\"),\n",
    "    title=\"Linear Regression Predictor\",\n",
    "    description=\"Enter a value for the feature to see the predicted target\",\n",
    "    flagging_mode=\"never\"\n",
    ").launch()"
   ]
  }
 ],
 "metadata": {
  "kernelspec": {
   "display_name": "Python 3 (ipykernel)",
   "language": "python",
   "name": "python3"
  },
  "language_info": {
   "codemirror_mode": {
    "name": "ipython",
    "version": 3
   },
   "file_extension": ".py",
   "mimetype": "text/x-python",
   "name": "python",
   "nbconvert_exporter": "python",
   "pygments_lexer": "ipython3",
   "version": "3.12.7"
  }
 },
 "nbformat": 4,
 "nbformat_minor": 5
}
