{
 "cells": [
  {
   "cell_type": "code",
   "execution_count": null,
   "id": "5e569ae7-4ece-4c21-9c56-20f6e5445364",
   "metadata": {},
   "outputs": [],
   "source": [
    "from openai import OpenAI\n",
    "import pandas as pd\n",
    "import ast\n",
    "\n",
    "df = pd.read_excel(\"your_excel_file.xlsx\")\n",
    "\n",
    "client = OpenAI(api_key=\"your_API_key_here\")  \n",
    "\n",
    "categories = [\"list\", \"your\", \"target\", \"categories\", \"here\"]\n",
    "\n",
    "system_prompt = f\"\"\"\n",
    "Related prompt will be written here\"\"\"\n",
    "\n",
    "def classify_with_scores(text):\n",
    "    user_prompt = f\"Text:\\n{text}\\n\\nResponse:\"\n",
    "    \n",
    "    try:\n",
    "        response = client.chat.completions.create(\n",
    "            model=\"your_GPT_model_selection_here\",\n",
    "            messages=[\n",
    "                {\"role\": \"system\", \"content\": system_prompt},\n",
    "                {\"role\": \"user\", \"content\": user_prompt}\n",
    "            ],\n",
    "            temperature=0.2\n",
    "        )\n",
    "        raw_output = response.choices[0].message.content\n",
    "        result_dict = ast.literal_eval(raw_output)\n",
    "        predicted_categories = [label for label, score in result_dict.items() if score >= 0.5]\n",
    "        return pd.Series([predicted_categories, result_dict])\n",
    "    \n",
    "    except Exception as e:\n",
    "        return pd.Series([[\"Error\"], {\"Error\": str(e)}])"
   ]
  }
 ],
 "metadata": {
  "kernelspec": {
   "display_name": "Python 3 (ipykernel)",
   "language": "python",
   "name": "python3"
  },
  "language_info": {
   "codemirror_mode": {
    "name": "ipython",
    "version": 3
   },
   "file_extension": ".py",
   "mimetype": "text/x-python",
   "name": "python",
   "nbconvert_exporter": "python",
   "pygments_lexer": "ipython3",
   "version": "3.12.7"
  }
 },
 "nbformat": 4,
 "nbformat_minor": 5
}
