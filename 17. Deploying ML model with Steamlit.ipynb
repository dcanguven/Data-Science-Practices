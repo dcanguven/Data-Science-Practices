{
 "cells": [
  {
   "cell_type": "markdown",
   "id": "edfe4823-bd28-49ad-9c26-1b206a2b9835",
   "metadata": {},
   "source": [
    "## Run and save the model\n",
    "\n",
    "```python\n",
    "\n",
    "import pandas as pd\n",
    "from sklearn.model_selection import train_test_split\n",
    "from sklearn.linear_model import LinearRegression\n",
    "from sklearn.metrics import r2_score, mean_squared_error\n",
    "import matplotlib.pyplot as plt\n",
    "import joblib\n",
    "\n",
    "df = pd.read_csv(\"Linear_Dataset.csv\")\n",
    "X = df[[\"Feature\"]]\n",
    "y = df[\"Target\"]\n",
    "\n",
    "X_train, X_test, y_train, y_test = train_test_split(X, y, test_size=0.2, random_state=42)\n",
    "\n",
    "model = LinearRegression()\n",
    "model.fit(X_train, y_train)\n",
    "\n",
    "y_pred = model.predict(X_test)\n",
    "\n",
    "r2 = r2_score(y_test, y_pred)\n",
    "\n",
    "print(f\"R² Skoru: {r2:.3f}\")\n",
    "\n",
    "joblib.dump(model, \"linear_model.pkl\")\n",
    "print(\"Model saved as a linear_model.pkl\")"
   ]
  },
  {
   "cell_type": "markdown",
   "id": "69c5002c-dcdf-47be-8b38-5e81691e64b1",
   "metadata": {},
   "source": [
    "## Build the app in Steamlit\n",
    "\n",
    "```python\n",
    "\n",
    "import streamlit as st\n",
    "import pandas as pd\n",
    "import joblib\n",
    "import matplotlib.pyplot as plt\n",
    "\n",
    "st.title(\"Linear Regression Prediction App\")\n",
    "\n",
    "uploaded_file = st.file_uploader(\"Upload a CSV file with 'Feature' column\", type=\"csv\")\n",
    "\n",
    "if uploaded_file:\n",
    "    df = pd.read_csv(uploaded_file)\n",
    "    st.subheader(\"Uploaded Data\")\n",
    "    st.write(df.head())\n",
    "\n",
    "    if \"Feature\" in df.columns:\n",
    "        model = joblib.load(\"linear_model.pkl\")\n",
    "        X_new = df[[\"Feature\"]]\n",
    "        df[\"Prediction\"] = model.predict(X_new)\n",
    "\n",
    "        st.subheader(\"Predictions\")\n",
    "        st.write(df)\n",
    "\n",
    "        st.subheader(\"Prediction Plot\")\n",
    "        fig, ax = plt.subplots()\n",
    "        ax.scatter(df[\"Feature\"], df[\"Prediction\"], color=\"red\", label=\"Prediction\")\n",
    "        if \"Target\" in df.columns:\n",
    "            ax.scatter(df[\"Feature\"], df[\"Target\"], alpha=0.5, label=\"Actual\")\n",
    "        ax.set_xlabel(\"Feature\")\n",
    "        ax.set_ylabel(\"Target / Prediction\")\n",
    "        ax.legend()\n",
    "        st.pyplot(fig)\n",
    "    else:\n",
    "        st.error(\"The file must contain a 'Feature' column.\")"
   ]
  }
 ],
 "metadata": {
  "kernelspec": {
   "display_name": "Python 3 (ipykernel)",
   "language": "python",
   "name": "python3"
  },
  "language_info": {
   "codemirror_mode": {
    "name": "ipython",
    "version": 3
   },
   "file_extension": ".py",
   "mimetype": "text/x-python",
   "name": "python",
   "nbconvert_exporter": "python",
   "pygments_lexer": "ipython3",
   "version": "3.12.7"
  }
 },
 "nbformat": 4,
 "nbformat_minor": 5
}
