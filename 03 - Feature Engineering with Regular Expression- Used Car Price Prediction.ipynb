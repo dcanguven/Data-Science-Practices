{
 "cells": [
  {
   "cell_type": "markdown",
   "id": "3e5d5828-08d3-4e7b-8fac-e3c84b4f9787",
   "metadata": {},
   "source": [
    "# FEATURE ENGINEERING WITH REGULAR EXPRESSION - USED CAR PRICE PREDICTION"
   ]
  },
  {
   "cell_type": "markdown",
   "id": "97ee24f2-6f27-41ff-9201-2ad542cdd8f8",
   "metadata": {},
   "source": [
    "# Introduction"
   ]
  },
  {
   "cell_type": "markdown",
   "id": "2ab83758-90e1-461b-a191-bd9838603c8d",
   "metadata": {},
   "source": [
    "Regular expressions are a valuable tool for extracting structured data from unstructured text, making them invaluable in the feature engineering stage of data science projects. They allow for concise and flexible pattern matching, reducing the need for lengthy, complex code. This simplifies data cleaning and transformation, improving code readability and maintainability. \n",
    "\n",
    "Regular expressions also enable the extraction of nuanced features from textual data, enhancing the potential for creating informative and predictive models. Their versatility empowers data scientists to efficiently handle diverse text formats, ultimately accelerating the feature engineering process and leading to more successful projects."
   ]
  },
  {
   "cell_type": "markdown",
   "id": "a73694bc-b566-4288-bf5e-bd4d7c8f4d0e",
   "metadata": {},
   "source": [
    "# 1. Import Libraries"
   ]
  },
  {
   "cell_type": "code",
   "execution_count": 2,
   "id": "167c5038-2df2-4b54-9411-35752e711248",
   "metadata": {},
   "outputs": [],
   "source": [
    "import pandas as pd\n",
    "import re"
   ]
  },
  {
   "cell_type": "markdown",
   "id": "d2d09b8e-4f0a-4137-bdd8-fa761216686e",
   "metadata": {},
   "source": [
    "# 2. Load Data"
   ]
  },
  {
   "cell_type": "code",
   "execution_count": 3,
   "id": "1752a9ae-9327-4627-bc8f-14c4583fcb34",
   "metadata": {},
   "outputs": [
    {
     "data": {
      "text/plain": [
       "Index(['id', 'brand', 'model', 'model_year', 'milage', 'fuel_type', 'engine',\n",
       "       'transmission', 'ext_col', 'int_col', 'accident', 'clean_title',\n",
       "       'price'],\n",
       "      dtype='object')"
      ]
     },
     "execution_count": 3,
     "metadata": {},
     "output_type": "execute_result"
    }
   ],
   "source": [
    "df_main_train = pd.read_csv(\"train.csv\")\n",
    "df = df_main_train.copy()\n",
    "df.columns"
   ]
  },
  {
   "cell_type": "markdown",
   "id": "7062c139-c6fd-4dec-9238-429d077cb310",
   "metadata": {},
   "source": [
    "# 3. Practice in in 01 - Regression Problem - Used Car Price Prediciton"
   ]
  },
  {
   "cell_type": "markdown",
   "id": "1730ea9b-5b32-4fbb-8ad3-8b7fbc5f64cf",
   "metadata": {},
   "source": [
    "## 3.1. Extracting \"HP\" data from \"engine\" column"
   ]
  },
  {
   "cell_type": "code",
   "execution_count": 4,
   "id": "1746bce3-0663-45ee-973e-ed75c397b306",
   "metadata": {},
   "outputs": [],
   "source": [
    "# # practice in 01 - Regression Problem - Used Car Price Prediciton.ipynb:\n",
    "# #df[\"hp\"] = df[\"engine\"].apply(lambda x: x.split(\" \")[0] if x.split(\" \")[0][-2:]==\"HP\" else np.nan)\n",
    "# df[\"hp\"] = df[df[\"hp\"].notnull()].hp.apply(lambda x: x.split(\".\")[0])\n",
    "# hp_temp = df[df[\"hp\"].notnull()]\n",
    "# hp_temp[\"hp\"] = hp_temp[\"hp\"].astype(int)\n",
    "# hp_temp2 = hp_temp.groupby(\"model\")[[\"hp\"]].mean().reset_index()\n",
    "# df = pd.merge(df, hp_temp2, on=\"model\", how = \"left\")\n",
    "# df.loc[df['hp_x'].isna(), 'hp_x'] = df['hp_y']\n",
    "# df.rename(columns={'hp_x': 'hp'}, inplace=True)\n",
    "# df.drop(\"hp_y\", axis=1 , inplace=True)\n",
    "# hp_temp3 = df[df.hp.notna()]\n",
    "# hp_temp3[\"hp\"] = hp_temp3.hp.astype(float)\n",
    "# hp_temp4 = hp_temp3.groupby(\"brand\")[[\"hp\"]].mean().reset_index()\n",
    "# df = pd.merge(df, hp_temp4, on=\"brand\", how = \"left\")\n",
    "# df.loc[df['hp_x'].isna(), 'hp_x'] = df['hp_y']\n",
    "# df.rename(columns={'hp_x': 'hp'}, inplace=True)\n",
    "# df.drop(\"hp_y\", axis=1 , inplace=True)\n",
    "# hp_temp5 = df[df.hp.notna()]\n",
    "# hp_temp5[\"hp\"] = hp_temp5.hp.astype(float)\n",
    "# hp_temp6 = hp_temp5.groupby(\"brand_category\")[[\"hp\"]].mean().reset_index()\n",
    "# df = pd.merge(df, hp_temp6, on=\"brand_category\", how = \"left\")\n",
    "# df.loc[df['hp_x'].isna(), 'hp_x'] = df['hp_y']\n",
    "# df.rename(columns={'hp_x': 'hp'}, inplace=True)\n",
    "# df.drop(\"hp_y\", axis=1 , inplace=True)\n",
    "# df.hp = df.hp.astype(float)"
   ]
  },
  {
   "cell_type": "markdown",
   "id": "10749ea1-85be-4203-b599-b357b85e8be6",
   "metadata": {},
   "source": [
    "## 3.2. Extracting \"cylinder\" data from \"engine\" column"
   ]
  },
  {
   "cell_type": "code",
   "execution_count": null,
   "id": "77872951-93d4-4fea-89aa-bed9831e309b",
   "metadata": {},
   "outputs": [],
   "source": [
    "# df[\"cylinder\"] = df[\"engine\"].apply(lambda x: x.split(\" \")[1] if len(x.split(\" \")) > 1 and x.split(\" \")[1][-1:] == \"L\"\n",
    "#                                     else (x.split(\" \")[0] if len(x.split(\" \")) > 1 and x.split(\" \")[0][-1:] == \"L\" \n",
    "#                                           else (x if x[-1:]==\"L\" else np.nan)))\n",
    "# df.engine.str.contains(\"Liter\").sum()\n",
    "# for index, value in df.engine.items():\n",
    "#     if \"Liter\" in value:\n",
    "#         df.at[index, 'cylinder'] = value.split(\" \")[0]\n",
    "# df['cylinder'] = df['cylinder'].str.replace('L', '', regex=False)\n",
    "# df['cylinder'] = df['cylinder'].astype(float)\n",
    "# df.cylinder.fillna(df[df[\"cylinder\"].notna()].cylinder.mean(), inplace=True)"
   ]
  },
  {
   "cell_type": "markdown",
   "id": "2dcb3517-e1ab-486c-a0bb-b909bc68a002",
   "metadata": {},
   "source": [
    "# 4. Using Regular Expression "
   ]
  },
  {
   "cell_type": "code",
   "execution_count": 29,
   "id": "02b41227-d86c-46bf-b98c-281b1da16e82",
   "metadata": {},
   "outputs": [],
   "source": [
    "import re\n",
    "import pandas as pd\n",
    "\n",
    "def decode_engine(s: str):\n",
    "    s = s.lower()\n",
    "    \n",
    "    # Extract HP\n",
    "    hp_match = re.search(r'(\\d+(\\.\\d+)?\\s*)hp', s)\n",
    "    engine_hp = float(hp_match.group(1)) if hp_match else None\n",
    "\n",
    "    # Extract cc (liters)\n",
    "    cc_match = re.search(r'(\\d+(\\.\\d+)?\\s*)l', s)\n",
    "    engine_cc = float(cc_match.group(1)) if cc_match else None\n",
    "\n",
    "    # Extract cylinder count\n",
    "    cyl_match = re.search(r'(\\d+)\\s*cylinder', s)\n",
    "    engine_cyl = int(cyl_match.group(1)) if cyl_match else None\n",
    "\n",
    "    # Boolean feature extraction (turbo, flex fuel, hybrid, electric)\n",
    "    features = {\n",
    "        \"turbo\": re.search(r'turbo', s) is not None,\n",
    "        \"flex_fuel\": re.search(r'flex fuel|flex', s) is not None,\n",
    "        \"hybrid\": re.search(r'hybrid', s) is not None,\n",
    "        \"electric\": re.search(r'electric', s) is not None\n",
    "    }\n",
    "\n",
    "    return engine_hp, engine_cc, engine_cyl, features[\"turbo\"], features[\"flex_fuel\"], features[\"hybrid\"], features[\"electric\"]\n",
    "\n",
    "# Applying the function to the DataFrame\n",
    "df[['engine_hp', 'engine_cc', 'engine_cyl', 'engine_turbo', 'engine_flexfuel',\n",
    "    'engine_hybrid', 'electric']] = df['engine'].apply(lambda x: pd.Series(decode_engine(x)))"
   ]
  },
  {
   "cell_type": "code",
   "execution_count": 31,
   "id": "d414b939-0c53-43c9-88fc-2a73664d3483",
   "metadata": {},
   "outputs": [
    {
     "data": {
      "text/plain": [
       "Index(['id', 'brand', 'model', 'model_year', 'milage', 'fuel_type', 'engine',\n",
       "       'transmission', 'ext_col', 'int_col', 'accident', 'clean_title',\n",
       "       'price', 'engine_hp', 'engine_cc', 'engine_cyl', 'engine_turbo',\n",
       "       'engine_flexfuel', 'engine_hybrid', 'electric'],\n",
       "      dtype='object')"
      ]
     },
     "execution_count": 31,
     "metadata": {},
     "output_type": "execute_result"
    }
   ],
   "source": [
    "df.columns"
   ]
  },
  {
   "cell_type": "code",
   "execution_count": 33,
   "id": "c228562f-3b89-4948-9c21-1e725a38b663",
   "metadata": {},
   "outputs": [
    {
     "data": {
      "text/plain": [
       "20"
      ]
     },
     "execution_count": 33,
     "metadata": {},
     "output_type": "execute_result"
    }
   ],
   "source": [
    "len(df.columns)"
   ]
  },
  {
   "cell_type": "markdown",
   "id": "fa5345b0-a00f-44c3-aede-2eb9050dc949",
   "metadata": {},
   "source": [
    "# 5. Conclusion"
   ]
  },
  {
   "cell_type": "markdown",
   "id": "b3db6965-480b-473b-ba4d-7f9197874a27",
   "metadata": {},
   "source": [
    "By leveraging regular expressions in feature engineering, we have successfully extracted more detailed information from the engine column. Previously, only horsepower (HP) and engine displacement (cylinder volume) were captured through basic grouping and filtering techniques. \n",
    "\n",
    "However, the current approach allows us to extract additional features such as the number of cylinders (engine_cyl), the presence of a turbocharger (turbo), flex-fuel capability (flexfuel), and whether the engine is electric.\n",
    "\n",
    "This expanded feature set enhances the model’s ability to capture more nuances in the data, reducing the risk of underfitting. Additionally, the use of fewer lines of code to achieve this extraction results in cleaner, more readable code, improving overall code maintainability and efficiency.\n",
    "\n",
    "Key Improvements:\n",
    "\n",
    "1. Clarity and Specificity: Added detail about what features were previously extracted and what has been added, ensuring it’s clear to the reader.\n",
    "2. Technical Accuracy: Used appropriate terminology like “feature set” and “underfitting” to align with data science terminology.\n",
    "3. Code Benefits: Highlighted the benefits of clean, maintainable code alongside the data extraction process."
   ]
  },
  {
   "cell_type": "code",
   "execution_count": null,
   "id": "63eeb05b-49e2-46f1-9ccf-3a5e95463117",
   "metadata": {},
   "outputs": [],
   "source": []
  }
 ],
 "metadata": {
  "kernelspec": {
   "display_name": "Python 3 (ipykernel)",
   "language": "python",
   "name": "python3"
  },
  "language_info": {
   "codemirror_mode": {
    "name": "ipython",
    "version": 3
   },
   "file_extension": ".py",
   "mimetype": "text/x-python",
   "name": "python",
   "nbconvert_exporter": "python",
   "pygments_lexer": "ipython3",
   "version": "3.11.8"
  }
 },
 "nbformat": 4,
 "nbformat_minor": 5
}
